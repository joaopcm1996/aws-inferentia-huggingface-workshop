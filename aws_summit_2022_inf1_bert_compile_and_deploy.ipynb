{
 "cells": [
  {
   "cell_type": "markdown",
   "metadata": {},
   "source": [
    "# AWS Summit San Francisco 2022\n",
    "## Using AWS Inferentia to optimize HuggingFace model inference"
   ]
  },
  {
   "cell_type": "markdown",
   "metadata": {},
   "source": [
    "Welcome to the AWS Summit San Francisco 2022 Inferentia Workshop! \n"
   ]
  },
  {
   "cell_type": "markdown",
   "metadata": {},
   "source": [
    "# Table of contents\n",
    "1. [Introduction](#introduction)\n",
    "2. [Setting up the environment](#setenv)\n",
    "3. [Get model from HuggingFace Model Hub](#getmodel)\n",
    "    1. [Get the Tokenizer](#gettoken)\n",
    "    2. [Download models and prepare them for inference](#trace)\n",
    "4. [Deploy default model to a CPU-based endpoint](#deploycpu)\n",
    "    1. [Perform a test CPU based inference](#testcpu)\n",
    "5. [Compile and deploy the model on an Inferentia instance](#compiledeploy)\n",
    "    1. [Review changes to the inference code](#reviewchanges)\n",
    "    2. [Create and compile Pytorch model for the inf1 instance](#pytorchmodel)\n",
    "    3. [Deploy compiled model into the inf1 instance](#deployinf1)\n",
    "    4. [Perform a test inf1 based inference](#testinf1)\n",
    "6. [Benchmark and comparison](#benchmark)\n",
    "    1. [Benchmark CPU based endpoint](#benchcpu)\n",
    "    2. [Benchmark Inferentia based endpoint](#benchinf1)\n",
    "    3. [Comparison and conclusions](#conclusions)\n",
    "7. [Cleanup](#cleanup)"
   ]
  },
  {
   "cell_type": "markdown",
   "metadata": {},
   "source": [
    "---"
   ]
  },
  {
   "cell_type": "markdown",
   "metadata": {},
   "source": [
    "# Introduction <a name=\"introduction\"></a>"
   ]
  },
  {
   "cell_type": "markdown",
   "metadata": {},
   "source": [
    "During this workshop, we will deploy two HuggingFace NLP models for the task of paraphrase detection on SageMaker endpoints. Paraphrase detection is an NLP classification problem. Given a pair of sentences, the system determines. the semantic similarity between the two sentences. If the two sentences convey the same meaning it is labelled as paraphrase, otherwise it is labeled as non-paraphrase. We will use `distilbert-base-uncased` [DistilBERT](https://huggingface.co/distilbert-base-uncased) transfromer model from HuggingFace Model Hub. \n",
    "These two models will be deployed in different endpoints: a CPU-based endpoint, with no changes to the model; and the other will be compiled on SageMaker and deployed to an Inf1 instance based endpoint. Finally, we will perform a latency and throughput performance comparison of both endpoints. "
   ]
  },
  {
   "cell_type": "markdown",
   "metadata": {},
   "source": [
    "[AWS Inferentia](https://aws.amazon.com/machine-learning/inferentia/) is Amazon's first custom silicon designed to accelerate deep learning workloads and is part of a long-term strategy to deliver on this vision. AWS Inferentia is designed to provide high performance inference in the cloud, to drive down the total cost of inference, and to make it easy for developers to integrate machine learning into their business applications. AWS Inferentia chips deliver up 2.3x higher throughput and up to 70% lower cost per inference than comparable current generation GPU-based Amazon EC2 instances, as we will confirm in the example notebook.\n",
    "\n",
    "[AWS Neuron](https://awsdocs-neuron.readthedocs-hosted.com/en/latest/) is a software development kit (SDK) for running machine learning inference using AWS Inferentia chips. It consists of a compiler, run-time, and profiling tools that enable developers to run high-performance and low latency inference using AWS Inferentia-based Amazon EC2 Inf1 instances. Using Neuron, you can bring your models that have been trained on any popular framework (PyTorch, TensorFlow, MXNet), and run them optimally on Inferentia. There is excellent support for Vision and NLP models especially, and on top of that we have released great features to help you make the most efficient use of the hardware, such as [dynamic batching](https://awsdocs-neuron.readthedocs-hosted.com/en/latest/neuron-guide/appnotes/perf/torch-neuron-dataparallel-app-note.html#dynamic-batching-description) or [Data Parallel](https://awsdocs-neuron.readthedocs-hosted.com/en/latest/neuron-guide/neuron-frameworks/pytorch-neuron/api-torch-neuron-dataparallel-api.html) inferencing.\n",
    "\n",
    "[SageMaker Neo](https://aws.amazon.com/sagemaker/neo/) saves you the effort of DIY model compilation, extending familiar SageMaker SDK API's to enable easy compilation for a [wide range](https://docs.aws.amazon.com/sagemaker/latest/APIReference/API_OutputConfig.html#API_OutputConfig_Contents) of platforms. This includes CPU and GPU-based instances, but also Inf1 instances; in this case, SageMaker Neo uses the Neuron SDK to compile your model.\n"
   ]
  },
  {
   "cell_type": "markdown",
   "metadata": {},
   "source": [
    "---"
   ]
  },
  {
   "cell_type": "markdown",
   "metadata": {},
   "source": [
    "## Getting Started  <a name=\"setenv\"></a>\n",
    "### Setting up the environment"
   ]
  },
  {
   "cell_type": "markdown",
   "metadata": {},
   "source": [
    "We install required Python packages. Also, we will create a default Amazon Sagemaker session, get the Amazon Sagemaker role and default Amazon S3 bucket."
   ]
  },
  {
   "cell_type": "code",
   "execution_count": 1,
   "metadata": {},
   "outputs": [],
   "source": [
    "%%capture\n",
    "!pip install -U transformers\n",
    "!pip install -U sagemaker\n",
    "!pip install -U torch"
   ]
  },
  {
   "cell_type": "code",
   "execution_count": 2,
   "metadata": {},
   "outputs": [],
   "source": [
    "import sys\n",
    "import transformers\n",
    "import sagemaker\n",
    "import torch\n",
    "import boto3\n",
    "\n",
    "sagemaker_session = sagemaker.Session()\n",
    "role = sagemaker.get_execution_role()\n",
    "sess_bucket = sagemaker_session.default_bucket()"
   ]
  },
  {
   "cell_type": "markdown",
   "metadata": {},
   "source": [
    "---"
   ]
  },
  {
   "cell_type": "markdown",
   "metadata": {},
   "source": [
    "## Get model from HuggingFace Model Hub <a name=\"getmodel\"></a>"
   ]
  },
  {
   "cell_type": "markdown",
   "metadata": {},
   "source": [
    "For this workshop, we chose one of the most downloaded models from the HuggingFace Model Hub: `distilbert-base-uncased`. [DistilBERT](https://huggingface.co/distilbert-base-uncased). It is a transformer model, smaller and faster than BERT, which was pretrained on the same data as BERT, which is BookCorpus, a dataset consisting of 11,038 unpublished books and English Wikipedia (excluding lists, tables and headers)."
   ]
  },
  {
   "cell_type": "markdown",
   "metadata": {},
   "source": [
    "### Get the Tokenizer <a name=\"gettoken\"></a>\n",
    "As a first step, we need to get the tokenizer. A tokenizer breaks a stream of text into tokens, and it is in charge of preparing the inputs for a model. We need it to create a sample input to interact with the Distillibert model, and will get it from HuggingFace through the `transformers` library. It is important to set the `return_dict` parameter to `False` when instantiating the model. In `transformers` v4.x, this parameter is `True` by default and it enables the return of dict-like python objects containing the model outputs, instead of the standard tuples. Neuron compilation does not support dictionary-based model ouputs, and compilation would fail if we didn't explictly set it to `False`."
   ]
  },
  {
   "cell_type": "code",
   "execution_count": 3,
   "metadata": {},
   "outputs": [
    {
     "name": "stderr",
     "output_type": "stream",
     "text": [
      "Some weights of the model checkpoint at distilbert-base-uncased were not used when initializing DistilBertForSequenceClassification: ['vocab_transform.weight', 'vocab_projector.weight', 'vocab_transform.bias', 'vocab_layer_norm.bias', 'vocab_layer_norm.weight', 'vocab_projector.bias']\n",
      "- This IS expected if you are initializing DistilBertForSequenceClassification from the checkpoint of a model trained on another task or with another architecture (e.g. initializing a BertForSequenceClassification model from a BertForPreTraining model).\n",
      "- This IS NOT expected if you are initializing DistilBertForSequenceClassification from the checkpoint of a model that you expect to be exactly identical (initializing a BertForSequenceClassification model from a BertForSequenceClassification model).\n",
      "Some weights of DistilBertForSequenceClassification were not initialized from the model checkpoint at distilbert-base-uncased and are newly initialized: ['pre_classifier.bias', 'classifier.bias', 'pre_classifier.weight', 'classifier.weight']\n",
      "You should probably TRAIN this model on a down-stream task to be able to use it for predictions and inference.\n"
     ]
    }
   ],
   "source": [
    "tokenizer = transformers.AutoTokenizer.from_pretrained(\"distilbert-base-uncased\")\n",
    "\n",
    "model = transformers.AutoModelForSequenceClassification.from_pretrained(\n",
    "    \"distilbert-base-uncased\", return_dict=False\n",
    ")"
   ]
  },
  {
   "cell_type": "markdown",
   "metadata": {},
   "source": [
    "### Download models and prepare them for inference <a name=\"trace\"></a>\n",
    "We will download the model and create two files with different formats. The first one is the model itself with no changes. This one will be uploaded and used in the CPU based endpoint as it is. The second image is a traced Pytorch image of the model so we can compile it before deploying it to the inf1 instance.\n",
    "\n",
    "PyTorch models must be saved as a definition file (.pt or .pth) with input datatype of float32.\n",
    "To save the model, we will use torch.jit.trace followed by torch.save. This will save an object to a file ( a python pickle: pickle_module=pickle). \n",
    "\n",
    "Next, we will convert the saved model to a compressed tar file and upload it to an S3 bucket.\n",
    "As a final step, we will create a sample input to `jit.trace` of the model with PyTorch. We need this to have SageMaker Neo compile the model artifact.\n"
   ]
  },
  {
   "cell_type": "code",
   "execution_count": 4,
   "metadata": {},
   "outputs": [
    {
     "name": "stdout",
     "output_type": "stream",
     "text": [
      "[2022-04-14 18:28:57.781 pytorch-1-6-cpu-py36-u-ml-c5-large-c4a461fcfd95e65f0470c83bc031:1807 INFO utils.py:27] RULE_JOB_STOP_SIGNAL_FILENAME: None\n",
      "[2022-04-14 18:28:58.078 pytorch-1-6-cpu-py36-u-ml-c5-large-c4a461fcfd95e65f0470c83bc031:1807 INFO profiler_config_parser.py:102] Unable to find config at /opt/ml/input/config/profilerconfig.json. Profiler is disabled.\n"
     ]
    }
   ],
   "source": [
    "from pathlib import Path\n",
    "\n",
    "# Create directory for model artifacts\n",
    "Path(\"normal_model/\").mkdir(exist_ok=True)\n",
    "Path(\"traced_model/\").mkdir(exist_ok=True)\n",
    "\n",
    "# Prepare sample input for jit model tracing\n",
    "seq_0 = \"Welcome to AWS Summit San Francisco 2022! Thank you for attending the workshop on using Huggingface transformers on Inferentia instances.\"\n",
    "seq_1 = seq_0\n",
    "max_length = 512\n",
    "\n",
    "tokenized_sequence_pair = tokenizer.encode_plus(\n",
    "    seq_0, seq_1, max_length=max_length, padding=\"max_length\", truncation=True, return_tensors=\"pt\"\n",
    ")\n",
    "\n",
    "example = tokenized_sequence_pair[\"input_ids\"], tokenized_sequence_pair[\"attention_mask\"]\n",
    "\n",
    "traced_model = torch.jit.trace(model.eval(), example)\n",
    "\n",
    "model.save_pretrained('normal_model/')\n",
    "traced_model.save(\"traced_model/model.pth\") # The `.pth` extension is required."
   ]
  },
  {
   "cell_type": "code",
   "execution_count": 5,
   "metadata": {},
   "outputs": [
    {
     "name": "stdout",
     "output_type": "stream",
     "text": [
      "./\n",
      "./pytorch_model.bin\n",
      "./config.json\n",
      "./normal_model.tar.gz\n",
      "./\n",
      "./model.pth\n",
      "./traced_model.tar.gz\n"
     ]
    }
   ],
   "source": [
    "!tar -czvf normal_model.tar.gz -C normal_model . && mv normal_model.tar.gz normal_model/\n",
    "!tar -czvf traced_model.tar.gz -C traced_model . && mv traced_model.tar.gz traced_model/"
   ]
  },
  {
   "cell_type": "markdown",
   "metadata": {},
   "source": [
    "We upload the traced model `tar.gz` file to Amazon S3, where the compilation job will download it from"
   ]
  },
  {
   "cell_type": "code",
   "execution_count": 6,
   "metadata": {},
   "outputs": [],
   "source": [
    "normal_model_url = sagemaker_session.upload_data(\n",
    "    path=\"normal_model/normal_model.tar.gz\",\n",
    "    key_prefix=\"neuron-experiments/bert-seq-classification/normal-model\",\n",
    ")\n",
    "\n",
    "traced_model_url = sagemaker_session.upload_data(\n",
    "    path=\"traced_model/traced_model.tar.gz\",\n",
    "    key_prefix=\"neuron-experiments/bert-seq-classification/traced-model\",\n",
    ")"
   ]
  },
  {
   "cell_type": "markdown",
   "metadata": {},
   "source": [
    "---"
   ]
  },
  {
   "cell_type": "markdown",
   "metadata": {},
   "source": [
    "## Deploy default model to a CPU-based endpoint <a name=\"deploycpu\"></a>"
   ]
  },
  {
   "cell_type": "markdown",
   "metadata": {},
   "source": [
    "We will be passing the `traced_model_url` as the `model_data` parameter to the `HuggingFaceModel` API. \n",
    "Notice that we are passing `inference.py` as the entry point script; also, the packages defined in the requirements file within the `source_dir` will automatically be installed in the endpoint instance. In this case we will use the `transformers` library that is compatible Inferentia instances (v. 4.15.0)"
   ]
  },
  {
   "cell_type": "code",
   "execution_count": 7,
   "metadata": {},
   "outputs": [],
   "source": [
    "from sagemaker.huggingface import HuggingFaceModel\n",
    "from sagemaker.predictor import Predictor\n",
    "from datetime import datetime\n",
    "\n",
    "prefix = \"neuron-experiments/bert-seq-classification\"\n",
    "flavour = \"normal\"\n",
    "date_string = datetime.now().strftime(\"%Y%m-%d%H-%M%S\")\n",
    "\n",
    "normal_sm_model = HuggingFaceModel(\n",
    "    model_data=normal_model_url,\n",
    "    predictor_cls=Predictor,\n",
    "    transformers_version=\"4.12.3\",\n",
    "    pytorch_version='1.9.1',\n",
    "    role=role,\n",
    "    entry_point=\"inference.py\",\n",
    "    source_dir=\"code\",\n",
    "    py_version=\"py38\",\n",
    "    name=f\"{flavour}-distilbert-{date_string}\",\n",
    "    env={\"SAGEMAKER_CONTAINER_LOG_LEVEL\": \"10\"},\n",
    ")"
   ]
  },
  {
   "cell_type": "code",
   "execution_count": 8,
   "metadata": {},
   "outputs": [
    {
     "name": "stderr",
     "output_type": "stream",
     "text": [
      "INFO:sagemaker:Creating model with name: normal-distilbert-202204-1418-3145\n",
      "INFO:sagemaker:Creating endpoint-config with name distilbert-c5-202204-1418-3145\n",
      "INFO:sagemaker:Creating endpoint with name distilbert-c5-202204-1418-3145\n"
     ]
    },
    {
     "name": "stdout",
     "output_type": "stream",
     "text": [
      "-----!CPU times: user 1min 12s, sys: 18.3 s, total: 1min 30s\n",
      "Wall time: 4min 19s\n"
     ]
    }
   ],
   "source": [
    "%%time\n",
    "from sagemaker.serializers import JSONSerializer\n",
    "from sagemaker.deserializers import JSONDeserializer\n",
    "\n",
    "hardware = \"c5\"\n",
    "\n",
    "normal_predictor = normal_sm_model.deploy(\n",
    "    instance_type=\"ml.c5.xlarge\",\n",
    "    initial_instance_count=1,\n",
    "    endpoint_name=f\"distilbert-{hardware}-{date_string}\",\n",
    "    serializer=JSONSerializer(),\n",
    "    deserializer=JSONDeserializer(),\n",
    ")"
   ]
  },
  {
   "cell_type": "markdown",
   "metadata": {},
   "source": [
    "### Perform a test inference <a name=\"testcpu\"></a> on CPU"
   ]
  },
  {
   "cell_type": "markdown",
   "metadata": {},
   "source": [
    "We will perform a quick test to see if the endpoint is responding as expected. We will send sample sequences."
   ]
  },
  {
   "cell_type": "code",
   "execution_count": 9,
   "metadata": {},
   "outputs": [
    {
     "data": {
      "text/plain": [
       "['\"BERT predicts that \\\\\"Welcome to AWS Summit San Francisco 2022! Thank you for attending the workshop on using Huggingface transformers on Inferentia instances.\\\\\" and \\\\\"Welcome to AWS Summit San Francisco 2022! Thank you for attending the workshop on using Huggingface transformers on Inferentia instances.\\\\\" are paraphrase\"',\n",
       " 'application/json']"
      ]
     },
     "execution_count": 9,
     "metadata": {},
     "output_type": "execute_result"
    }
   ],
   "source": [
    "# Predict with model endpoint\n",
    "client = boto3.client('sagemaker')\n",
    "\n",
    "#let's make sure it is up und running first\n",
    "status = \"\"\n",
    "while status != 'InService':\n",
    "    endpoint_response = client.describe_endpoint(EndpointName=f\"distilbert-{hardware}-{date_string}\")\n",
    "    status = endpoint_response['EndpointStatus']\n",
    "\n",
    "\n",
    "# Send a payload to the endpoint and recieve the inference\n",
    "payload = seq_0, seq_1\n",
    "normal_predictor.predict(payload)"
   ]
  },
  {
   "cell_type": "markdown",
   "metadata": {},
   "source": [
    "---"
   ]
  },
  {
   "cell_type": "markdown",
   "metadata": {},
   "source": [
    "## Compile and deploy the model on an Inferentia instance <a name=\"compiledeploy\"></a>"
   ]
  },
  {
   "cell_type": "markdown",
   "metadata": {},
   "source": [
    "In this section we will cover the compilation and deployment of the model into the inf1 instance. We will also review the changes in the inference code."
   ]
  },
  {
   "cell_type": "markdown",
   "metadata": {},
   "source": [
    "### Review inference code <a name=\"reviewchanges\"></a>"
   ]
  },
  {
   "cell_type": "markdown",
   "metadata": {},
   "source": [
    "If you open `inference.py` you will see a few functions: `model_fn` receives the model directory, is responsible for loading and returning the model -, `input_fn` and `output_fn` functions are in charge of pre-processing/checking content types of input and output to the endpoint - and a `predict_fn`, receives the outputs of `model_fn` and `input_fn` (meaning, the loaded model and the deserialized/pre-processed input data) and defines how the model will run inference.\n",
    "\n",
    "In this case, notice that we will load the corresponding model depending on whether the function is deployed. `model_fn` will return a tuple containing both the model and its corresponding tokenizer. Both the model and the input data will be sent `.to(device)`, which can be a CPU or GPU.\n",
    "\n",
    "Here is the code snippet of the `model_fn` function:\n"
   ]
  },
  {
   "cell_type": "code",
   "execution_count": 10,
   "metadata": {},
   "outputs": [],
   "source": [
    "# %load -s model_fn code/inference.py\n",
    "def model_fn(model_dir):\n",
    "    tokenizer_init = AutoTokenizer.from_pretrained('distilbert-base-uncased')\n",
    "    compiled_model = os.path.exists(f'{model_dir}/model_neuron.pt')\n",
    "    if compiled_model:\n",
    "        import torch_neuron\n",
    "        os.environ[\"NEURONCORE_GROUP_SIZES\"] = \"1\"\n",
    "        model = torch.jit.load(f'{model_dir}/model_neuron.pt')\n",
    "    else: \n",
    "        model = AutoModelForSequenceClassification.from_pretrained(model_dir).to(device)\n",
    "    \n",
    "    return (model, tokenizer_init)"
   ]
  },
  {
   "cell_type": "markdown",
   "metadata": {},
   "source": [
    "### Create and compile Pytorch model for the inf1 instance <a name=\"pytorchmodel\"></a>"
   ]
  },
  {
   "cell_type": "markdown",
   "metadata": {},
   "source": [
    "We will now create a new `Huggingface` model that will use the `inference.py` file described above as its entry point script. "
   ]
  },
  {
   "cell_type": "code",
   "execution_count": 11,
   "metadata": {},
   "outputs": [],
   "source": [
    "from sagemaker.huggingface import HuggingFaceModel\n",
    "from sagemaker.predictor import Predictor\n",
    "from datetime import datetime\n",
    "from sagemaker.serializers import JSONSerializer\n",
    "from sagemaker.deserializers import JSONDeserializer\n",
    "\n",
    "date_string = datetime.now().strftime(\"%Y%m-%d%H-%M%S\")\n",
    "\n",
    "compiled_inf1_model = HuggingFaceModel(\n",
    "    model_data=traced_model_url,\n",
    "    predictor_cls=Predictor,\n",
    "    transformers_version=\"4.12.3\",\n",
    "    pytorch_version='1.9.1',\n",
    "    role=role,\n",
    "    entry_point=\"inference.py\",\n",
    "    source_dir=\"code\",\n",
    "    py_version=\"py37\",\n",
    "    name=f\"distilbert-{date_string}\",\n",
    "    env={\"SAGEMAKER_CONTAINER_LOG_LEVEL\": \"10\"},\n",
    ")"
   ]
  },
  {
   "cell_type": "markdown",
   "metadata": {},
   "source": [
    "We are ready to compile the model! Two additional notes:\n",
    "* HuggingFace models should be compiled to `dtype` `int64`\n",
    "* the format for `compiler_options` differs from the standard Python `dict` that you can use when compiling for \"normal\" instance types; for inferentia, you must provide a JSON string with CLI arguments, which correspond to the ones supported by the [Neuron Compiler](https://awsdocs-neuron.readthedocs-hosted.com/en/latest/neuron-guide/neuron-cc/command-line-reference.html) (read more about `compiler_options` [here](https://docs.aws.amazon.com/sagemaker/latest/APIReference/API_OutputConfig.html#API_OutputConfig_Contents))\n",
    "Let's compile the model:"
   ]
  },
  {
   "cell_type": "code",
   "execution_count": 12,
   "metadata": {},
   "outputs": [
    {
     "name": "stderr",
     "output_type": "stream",
     "text": [
      "INFO:sagemaker:Creating compilation-job with name: distilbert-inf1-202204-1418-3606\n"
     ]
    },
    {
     "name": "stdout",
     "output_type": "stream",
     "text": [
      "?????????????????????????????.........................................................................................................!CPU times: user 440 ms, sys: 45.4 ms, total: 485 ms\n",
      "Wall time: 11min 28s\n"
     ]
    }
   ],
   "source": [
    "%%time\n",
    "import json\n",
    "\n",
    "hardware = \"inf1\"\n",
    "compilation_job_name = f\"distilbert-{hardware}-\" + date_string\n",
    "\n",
    "compiled_inf1_model = compiled_inf1_model.compile(\n",
    "    target_instance_family=f\"ml_{hardware}\",\n",
    "    input_shape={\"input_ids\": [1, 512], \"attention_mask\": [1, 512]},\n",
    "    job_name=compilation_job_name,\n",
    "    role=role,\n",
    "    framework=\"pytorch\",\n",
    "    framework_version=\"1.9.1\",\n",
    "    output_path=f\"s3://{sess_bucket}/{prefix}/neo-compilations19/{hardware}-model\",\n",
    "    compiler_options=json.dumps(\"--dtype int64\"),\n",
    "    compile_max_run=900,\n",
    ")"
   ]
  },
  {
   "cell_type": "markdown",
   "metadata": {},
   "source": [
    "### Deploy compiled model into the inf1 instance <a name=\"deployinf1\"></a>"
   ]
  },
  {
   "cell_type": "markdown",
   "metadata": {},
   "source": [
    "After successful compilation, we deploy the new model to an inf1.xlarge instance."
   ]
  },
  {
   "cell_type": "code",
   "execution_count": 13,
   "metadata": {},
   "outputs": [
    {
     "name": "stderr",
     "output_type": "stream",
     "text": [
      "INFO:sagemaker:Creating model with name: distilbert-202204-1418-3606\n",
      "INFO:sagemaker:Creating endpoint-config with name test-neo-inf1-202204-1418-4734\n",
      "INFO:sagemaker:Creating endpoint with name test-neo-inf1-202204-1418-4734\n"
     ]
    },
    {
     "name": "stdout",
     "output_type": "stream",
     "text": [
      "CPU times: user 8.71 s, sys: 1.68 s, total: 10.4 s\n",
      "Wall time: 10.4 s\n"
     ]
    }
   ],
   "source": [
    "%%time\n",
    "\n",
    "date_string = datetime.now().strftime(\"%Y%m-%d%H-%M%S\")\n",
    "\n",
    "compiled_inf1_predictor = compiled_inf1_model.deploy(\n",
    "    instance_type=\"ml.inf1.xlarge\",\n",
    "    initial_instance_count=1,\n",
    "    endpoint_name=f\"test-neo-{hardware}-{date_string}\",\n",
    "    serializer=JSONSerializer(),\n",
    "    deserializer=JSONDeserializer(),\n",
    "    wait=False\n",
    ")"
   ]
  },
  {
   "cell_type": "markdown",
   "metadata": {},
   "source": [
    "### Perform a test inference <a name=\"testinf1\"></a>"
   ]
  },
  {
   "cell_type": "markdown",
   "metadata": {},
   "source": [
    "As a final test, we first make sure the endpoint is up una running in a `InService` state, and then perform a simple inference sending two sequences of text and wait for the response."
   ]
  },
  {
   "cell_type": "code",
   "execution_count": 15,
   "metadata": {},
   "outputs": [
    {
     "data": {
      "text/plain": [
       "'BERT predicts that \"Welcome to AWS Summit San Francisco 2022! Thank you for attending the workshop on using Huggingface transformers on Inferentia instances.\" and \"Welcome to AWS Summit San Francisco 2022! Thank you for attending the workshop on using Huggingface transformers on Inferentia instances.\" are not paraphrase'"
      ]
     },
     "execution_count": 15,
     "metadata": {},
     "output_type": "execute_result"
    }
   ],
   "source": [
    "# Predict with model endpoint\n",
    "client = boto3.client('sagemaker')\n",
    "\n",
    "#let's make sure it is up und running first\n",
    "status = \"\"\n",
    "while status != 'InService':\n",
    "    endpoint_response = client.describe_endpoint(EndpointName=f\"test-neo-{hardware}-{date_string}\")\n",
    "    status = endpoint_response['EndpointStatus']\n",
    "\n",
    "\n",
    "# Send a payload to the endpoint and recieve the inference\n",
    "payload = seq_0, seq_1\n",
    "compiled_inf1_predictor.predict(payload)"
   ]
  },
  {
   "cell_type": "markdown",
   "metadata": {},
   "source": [
    "---"
   ]
  },
  {
   "cell_type": "markdown",
   "metadata": {},
   "source": [
    "## Benchmark and comparison <a name=\"benchmark\"></a>"
   ]
  },
  {
   "cell_type": "markdown",
   "metadata": {},
   "source": [
    "Now that we have both endpoints online, we will perform a benchmark using Python's `threading` module. In each benchmark, we start 5 threads that will each make 300 requests to the model endpoint. We measure the inference latency for each request, and we also measure the total time to finish the task, so that we can get an estimate of the request throughput/second."
   ]
  },
  {
   "cell_type": "markdown",
   "metadata": {},
   "source": [
    "### Benchmark CPU based endpoint <a name=\"benchcpu\"></a>"
   ]
  },
  {
   "cell_type": "code",
   "execution_count": 16,
   "metadata": {},
   "outputs": [
    {
     "name": "stdout",
     "output_type": "stream",
     "text": [
      "Thread 139875525318400 started\n",
      "Thread 139875655603968 started\n",
      "Thread 139875630425856 started\n",
      "Thread 139875663996672 started\n",
      "Thread 139875672389376 started\n",
      "CPU times: user 1.02 s, sys: 37.5 ms, total: 1.05 s\n",
      "Wall time: 1min 58s\n"
     ]
    }
   ],
   "source": [
    "%%time\n",
    "# Run the benchmark \n",
    "\n",
    "import threading\n",
    "import time\n",
    "\n",
    "num_preds = 100\n",
    "num_threads = 5\n",
    "\n",
    "times = []\n",
    "\n",
    "\n",
    "def predict():\n",
    "    thread_id = threading.get_ident()\n",
    "    print(f\"Thread {thread_id} started\")\n",
    "\n",
    "    for i in range(num_preds):\n",
    "        tick = time.time()\n",
    "        response = normal_predictor.predict(payload)\n",
    "        tock = time.time()\n",
    "        times.append((thread_id, tock - tick))\n",
    "\n",
    "\n",
    "threads = []\n",
    "[threads.append(threading.Thread(target=predict, daemon=False)) for i in range(num_threads)]\n",
    "[t.start() for t in threads]\n",
    "\n",
    "# Wait for threads, get an estimate of total time\n",
    "start = time.time()\n",
    "[t.join() for t in threads]\n",
    "end = time.time() - start"
   ]
  },
  {
   "cell_type": "code",
   "execution_count": 17,
   "metadata": {},
   "outputs": [
    {
     "data": {
      "image/png": "[encoded data removed]",
      "text/plain": [
       "<Figure size 432x288 with 1 Axes>"
      ]
     },
     "metadata": {
      "needs_background": "light"
     },
     "output_type": "display_data"
    },
    {
     "name": "stdout",
     "output_type": "stream",
     "text": [
      "==== Default HuggingFace model on CPU benchmark ====\n",
      "\n",
      "95 % of requests take less than 1638.5496139526365 ms\n",
      "Rough request throughput/second is 4.218539492510314\n"
     ]
    }
   ],
   "source": [
    "# Display results \n",
    "from matplotlib.pyplot import hist, title, show, xlim\n",
    "import numpy as np\n",
    "\n",
    "TPS_CPU = (num_preds * num_threads) / end\n",
    "\n",
    "t_CPU = [duration for thread__id, duration in times]\n",
    "latency_percentiles = np.percentile(t_CPU, q=[50, 90, 95, 99])\n",
    "latency_CPU = latency_percentiles[2]*1000\n",
    "\n",
    "hist(t_CPU, bins=100)\n",
    "title(\"Request latency histogram on CPU\")\n",
    "show()\n",
    "\n",
    "print(\"==== Default HuggingFace model on CPU benchmark ====\\n\")\n",
    "print(f\"95 % of requests take less than {latency_CPU} ms\")\n",
    "print(f\"Rough request throughput/second is {TPS_CPU}\")"
   ]
  },
  {
   "cell_type": "markdown",
   "metadata": {},
   "source": [
    "We can see that request latency is in the 1-1.2 second range, and throughput is ~4.5 TPS."
   ]
  },
  {
   "cell_type": "markdown",
   "metadata": {},
   "source": [
    "### Benchmark Inferentia based endpoint <a name=\"benchinf1\"></a>"
   ]
  },
  {
   "cell_type": "code",
   "execution_count": 18,
   "metadata": {},
   "outputs": [
    {
     "name": "stdout",
     "output_type": "stream",
     "text": [
      "Thread 139875630425856 started\n",
      "Thread 139875655603968 startedThread 139875672389376 started\n",
      "\n",
      "Thread 139875663996672 started\n",
      "Thread 139875542103808 started\n",
      "CPU times: user 2.01 s, sys: 133 ms, total: 2.14 s\n",
      "Wall time: 9.09 s\n"
     ]
    }
   ],
   "source": [
    "%%time\n",
    "# Run benchmark \n",
    "\n",
    "import threading\n",
    "import time\n",
    "\n",
    "\n",
    "num_preds = 300\n",
    "num_threads = 5\n",
    "\n",
    "times = []\n",
    "\n",
    "\n",
    "def predict():\n",
    "    thread_id = threading.get_ident()\n",
    "    print(f\"Thread {thread_id} started\")\n",
    "\n",
    "    for i in range(num_preds):\n",
    "        tick = time.time()\n",
    "        response = compiled_inf1_predictor.predict(payload)\n",
    "        tock = time.time()\n",
    "        times.append((thread_id, tock - tick))\n",
    "\n",
    "\n",
    "threads = []\n",
    "[threads.append(threading.Thread(target=predict, daemon=False)) for i in range(num_threads)]\n",
    "[t.start() for t in threads]\n",
    "\n",
    "# Make a rough estimate of total time, wait for threads\n",
    "start = time.time()\n",
    "[t.join() for t in threads]\n",
    "end = time.time() - start"
   ]
  },
  {
   "cell_type": "code",
   "execution_count": 19,
   "metadata": {},
   "outputs": [
    {
     "data": {
      "image/png": "[encoded data removed]",
      "text/plain": [
       "<Figure size 432x288 with 1 Axes>"
      ]
     },
     "metadata": {
      "needs_background": "light"
     },
     "output_type": "display_data"
    },
    {
     "name": "stdout",
     "output_type": "stream",
     "text": [
      "==== Default HuggingFace model on inf1 benchmark ====\n",
      "\n",
      "95 % of requests take less than 36.66545152664183 ms\n",
      "Rough request throughput/second is 165.22486837724384\n"
     ]
    }
   ],
   "source": [
    "# Display results \n",
    "from matplotlib.pyplot import hist, title, show, xlim\n",
    "import numpy as np\n",
    "\n",
    "TPS_inf1 = (num_preds * num_threads) / end\n",
    "\n",
    "t_inf1 = [duration for thread__id, duration in times]\n",
    "latency_percentiles = np.percentile(t_inf1, q=[50, 90, 95, 99])\n",
    "latency_inf1 = latency_percentiles[2]*1000\n",
    "\n",
    "hist(t_inf1, bins=100)\n",
    "title(\"Request latency histogram on Inferentia\")\n",
    "show()\n",
    "\n",
    "print(\"==== Default HuggingFace model on inf1 benchmark ====\\n\")\n",
    "print(f\"95 % of requests take less than {latency_inf1} ms\")\n",
    "print(f\"Rough request throughput/second is {TPS_inf1}\")\n",
    "\n",
    "\n"
   ]
  },
  {
   "cell_type": "markdown",
   "metadata": {},
   "source": [
    "We can see that request latency is in the 0.02-0.05 millisecond range, and throughput is ~157 TPS."
   ]
  },
  {
   "cell_type": "markdown",
   "metadata": {},
   "source": [
    "---"
   ]
  },
  {
   "cell_type": "markdown",
   "metadata": {},
   "source": [
    "# Conclusion <a name=\"conclusions\"></a>"
   ]
  },
  {
   "cell_type": "code",
   "execution_count": 20,
   "metadata": {},
   "outputs": [
    {
     "name": "stdout",
     "output_type": "stream",
     "text": [
      "Using inf1 instances latency dropped to a 36.67 millisecond range from 1638.55 ms on a CPU endpoint.\n",
      "Also, The average throughput increased to 165.22 TPS from 4.22 TPS on the CPU.\n"
     ]
    }
   ],
   "source": [
    "print(\"Using inf1 instances latency dropped to a {:.2f} millisecond range from {:.2f} ms on a CPU endpoint.\".format(latency_inf1, latency_CPU)) \n",
    "print(\"Also, The average throughput increased to {:.2f} TPS from {:.2f} TPS on the CPU.\".format( TPS_inf1, TPS_CPU) )"
   ]
  },
  {
   "cell_type": "markdown",
   "metadata": {},
   "source": [
    "This increase in performance obtained from using inf1 instances, paired with the cost reduction and the use of known SageMaker SDK APIs, enables new benefits with little development effort and a gentle learning curve. "
   ]
  },
  {
   "cell_type": "markdown",
   "metadata": {},
   "source": [
    "---"
   ]
  },
  {
   "cell_type": "markdown",
   "metadata": {},
   "source": [
    "# Clean up <a name=\"cleanup\"></a>\n",
    "We delete the models and release the endpoints"
   ]
  },
  {
   "cell_type": "code",
   "execution_count": 21,
   "metadata": {},
   "outputs": [
    {
     "name": "stderr",
     "output_type": "stream",
     "text": [
      "INFO:sagemaker:Deleting model with name: normal-distilbert-202204-1418-3145\n",
      "INFO:sagemaker:Deleting endpoint configuration with name: distilbert-c5-202204-1418-3145\n",
      "INFO:sagemaker:Deleting endpoint with name: distilbert-c5-202204-1418-3145\n",
      "INFO:sagemaker:Deleting model with name: distilbert-202204-1418-3606\n",
      "INFO:sagemaker:Deleting endpoint configuration with name: test-neo-inf1-202204-1418-4734\n",
      "INFO:sagemaker:Deleting endpoint with name: test-neo-inf1-202204-1418-4734\n"
     ]
    }
   ],
   "source": [
    "normal_predictor.delete_model()\n",
    "normal_predictor.delete_endpoint()\n",
    "compiled_inf1_predictor.delete_model()\n",
    "compiled_inf1_predictor.delete_endpoint()"
   ]
  },
  {
   "cell_type": "code",
   "execution_count": null,
   "metadata": {},
   "outputs": [],
   "source": []
  }
 ],
 "metadata": {
  "instance_type": "ml.c5.large",
  "kernelspec": {
   "display_name": "Python 3 (PyTorch 1.6 Python 3.6 CPU Optimized)",
   "language": "python",
   "name": "python3__SAGEMAKER_INTERNAL__arn:aws:sagemaker:us-east-1:081325390199:image/pytorch-1.6-cpu-py36-ubuntu16.04-v1"
  },
  "language_info": {
   "codemirror_mode": {
    "name": "ipython",
    "version": 3
   },
   "file_extension": ".py",
   "mimetype": "text/x-python",
   "name": "python",
   "nbconvert_exporter": "python",
   "pygments_lexer": "ipython3",
   "version": "3.6.13"
  }
 },
 "nbformat": 4,
 "nbformat_minor": 5
}
